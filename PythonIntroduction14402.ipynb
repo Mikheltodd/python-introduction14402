{
  "nbformat": 4,
  "nbformat_minor": 0,
  "metadata": {
    "colab": {
      "private_outputs": true,
      "provenance": [],
      "authorship_tag": "ABX9TyMYmliyTcDAGVRta1T6tZdn",
      "include_colab_link": true
    },
    "kernelspec": {
      "name": "python3",
      "display_name": "Python 3"
    },
    "language_info": {
      "name": "python"
    }
  },
  "cells": [
    {
      "cell_type": "markdown",
      "metadata": {
        "id": "view-in-github",
        "colab_type": "text"
      },
      "source": [
        "<a href=\"https://colab.research.google.com/github/Mikheltodd/python-introduction14402/blob/main/PythonIntroduction14402.ipynb\" target=\"_parent\"><img src=\"https://colab.research.google.com/assets/colab-badge.svg\" alt=\"Open In Colab\"/></a>"
      ]
    },
    {
      "cell_type": "markdown",
      "source": [
        "# Mis Apuntes de Python\n",
        "### Fundamentos de Programación 202420\n",
        "\n",
        "**Nombre:** Miguel Ortiz\n",
        "\n",
        "__email:__ miguel.ortizp@upb.edu.co\n",
        "\n",
        "*Fecha de creación:* 20 de agosto, 2024\n",
        "\n",
        "_Excelsius!_"
      ],
      "metadata": {
        "id": "pJnTx-grrgXR"
      }
    },
    {
      "cell_type": "code",
      "execution_count": null,
      "metadata": {
        "id": "D97QTss2oJJb"
      },
      "outputs": [],
      "source": [
        "# Mis primeros pasos con Python\n",
        "\n",
        "print(\"Hola Mundo\")\n",
        "print('Ahhhhhhhh')\n",
        "print(\"Miguel\")\n",
        "\n",
        "name = \"Miguel\"\n",
        "age = 32\n",
        "city = \"Cartagena\"\n",
        "\n",
        "print(\"Hola, mi nombre es\", name, \"tengo\", age, \"años y soy de\", city)\n",
        "\n",
        "# Números\n",
        "a = 10\n",
        "b = 2.5\n",
        "c = a + b\n",
        "print(c)\n",
        "\n",
        "# Tipo de datos\n",
        "print(type(a))\n",
        "print(type(b))\n",
        "print(type(c))"
      ]
    },
    {
      "cell_type": "code",
      "source": [
        "# Operaciones Matemáticas Básicas\n",
        "\n",
        "print(3 + 2) # Suma\n",
        "print(3 - 2) # Resta\n",
        "print(3 * 2) # Multiplicación\n",
        "print(3 / 2) # División\n",
        "print(3 % 2) # Módulo\n",
        "print(3 ** 2) # Potencia\n",
        "print(3 // 2) # División entera"
      ],
      "metadata": {
        "id": "ogSMrdmZvI2x"
      },
      "execution_count": null,
      "outputs": []
    },
    {
      "cell_type": "code",
      "source": [
        "# Concatenación\n",
        "\n",
        "name = \"Miguel\"\n",
        "lastname = \"Ortiz\"\n",
        "fullname = name + ' ' + lastname\n",
        "print(\"-\" * 20)\n",
        "print(fullname)\n",
        "# print((fullname + ' ') * 3)\n",
        "print(\"-\" * 20)"
      ],
      "metadata": {
        "id": "lLy0X1bI0b-3"
      },
      "execution_count": null,
      "outputs": []
    },
    {
      "cell_type": "code",
      "source": [
        "# Incrementos\n",
        "\n",
        "a = 20\n",
        "print(\"a =\", a)\n",
        "b = 10\n",
        "a += b\n",
        "print(\"a =\", a)\n",
        "a -= b\n",
        "print(\"a =\", a)\n",
        "a *= b\n",
        "print(\"a =\", a)\n",
        "a /= b\n",
        "print(\"a =\", a)"
      ],
      "metadata": {
        "id": "tY2e-BfM1gZr"
      },
      "execution_count": null,
      "outputs": []
    },
    {
      "cell_type": "code",
      "source": [
        "# Multi-line\n",
        "\n",
        "song = \"\"\"\n",
        "Is this the real life? Is this just fantasy?\n",
        "Caught in a landslide, no escape from reality\n",
        "Open your eyes, look up to the skies and see\n",
        "I'm just a poor boy, I need no sympathy\n",
        "Because I'm easy come, easy go\n",
        "Little high, little low\n",
        "Any way the wind blows doesn't really matter to me, to me\n",
        "\"\"\"\n",
        "print(song)"
      ],
      "metadata": {
        "id": "_YwD9ZAS28Z_"
      },
      "execution_count": null,
      "outputs": []
    },
    {
      "cell_type": "code",
      "source": [
        "# Entradas de Usuario\n",
        "\n",
        "a = int(input(\"Ingrese el primer número: \"))\n",
        "b = int(input(\"Ingrese el segundo número: \"))\n",
        "# a = float(input(\"Ingrese el primer número: \"))\n",
        "# b = float(input(\"Ingrese el segundo número: \"))\n",
        "# a = 3\n",
        "# b = 5\n",
        "print(a + b)"
      ],
      "metadata": {
        "id": "iYqQ7Mzm4YQk"
      },
      "execution_count": null,
      "outputs": []
    },
    {
      "cell_type": "code",
      "source": [],
      "metadata": {
        "id": "W3osap1U5zOV"
      },
      "execution_count": null,
      "outputs": []
    }
  ]
}